{
 "cells": [
  {
   "cell_type": "code",
   "id": "initial_id",
   "metadata": {
    "collapsed": true
   },
   "source": [
    "from ultralytics import YOLO\n",
    "\n",
    "model = YOLO(\"yolov8n.pt\")\n",
    "model.val(data=\"coco8.yaml\")"
   ],
   "outputs": [],
   "execution_count": null
  },
  {
   "metadata": {
    "ExecuteTime": {
     "end_time": "2025-04-06T23:50:43.126848Z",
     "start_time": "2025-04-06T23:50:39.958283Z"
    }
   },
   "cell_type": "code",
   "source": [
    "from ultralytics import YOLO\n",
    "import torch\n",
    "model = YOLO(\"yolov8_quant.yaml\", task=\"detect\")  # Assumes scale n\n",
    "dummy_input = torch.randn(1, 3, 640, 640)\n",
    "out = model.model(dummy_input)\n",
    "out"
   ],
   "id": "9f43a303020bac5",
   "outputs": [
    {
     "name": "stdout",
     "output_type": "stream",
     "text": [
      "WARNING ⚠️ no model scale passed. Assuming scale='n'.\n"
     ]
    },
    {
     "name": "stderr",
     "output_type": "stream",
     "text": [
      "/home/exmob/miniconda/envs/ultralytics/lib/python3.9/site-packages/torch/_tensor.py:1624: UserWarning: Named tensors and all their associated APIs are an experimental feature and subject to change. Please do not use them for anything important until they are released as stable. (Triggered internally at /pytorch/c10/core/TensorImpl.h:1935.)\n",
      "  return super().rename(names)\n",
      "/home/exmob/miniconda/envs/ultralytics/lib/python3.9/site-packages/torch/nn/modules/conv.py:549: UserWarning: Defining your `__torch_function__` as a plain method is deprecated and will be an error in future, please define it as a classmethod. (Triggered internally at /pytorch/torch/csrc/utils/python_arg_parser.cpp:316.)\n",
      "  return F.conv2d(\n"
     ]
    },
    {
     "data": {
      "text/plain": [
       "[tensor([[[[  0.8894,   0.7451,   0.8084,  ...,   0.9054,   0.7407,   0.9306],\n",
       "           [  1.1264,   0.8140,   1.0506,  ...,   1.1741,   0.8766,   1.1250],\n",
       "           [  1.2600,   0.9574,   0.8490,  ...,   1.0114,   0.9293,   1.1160],\n",
       "           ...,\n",
       "           [  0.8108,   0.5049,   0.7442,  ...,   1.0445,   0.7284,   1.0015],\n",
       "           [  0.8911,   0.9478,   1.0630,  ...,   1.0348,   0.7504,   0.8441],\n",
       "           [  0.9198,   0.8784,   1.1763,  ...,   1.2582,   1.0932,   0.8622]],\n",
       " \n",
       "          [[  1.1870,   1.3952,   1.2318,  ...,   1.0628,   0.9137,   1.0398],\n",
       "           [  1.0492,   1.0578,   1.0208,  ...,   1.0788,   0.9618,   1.1497],\n",
       "           [  1.1347,   0.7936,   1.2376,  ...,   0.8111,   0.8267,   0.9393],\n",
       "           ...,\n",
       "           [  1.0831,   0.8055,   1.2172,  ...,   1.5227,   1.4819,   0.9235],\n",
       "           [  0.9766,   1.0110,   1.4336,  ...,   1.0321,   1.0860,   1.0292],\n",
       "           [  1.0427,   1.0726,   0.8916,  ...,   1.0931,   1.0226,   1.0763]],\n",
       " \n",
       "          [[  0.9227,   0.8548,   1.0527,  ...,   1.0370,   0.9497,   0.9347],\n",
       "           [  0.8553,   0.8935,   0.6495,  ...,   1.0023,   0.7606,   0.8177],\n",
       "           [  0.7702,   1.0708,   0.5021,  ...,   0.7841,   1.1839,   1.0596],\n",
       "           ...,\n",
       "           [  0.7364,   1.1700,   0.8668,  ...,   0.8731,   1.0645,   0.7873],\n",
       "           [  0.9921,   0.9143,   0.9999,  ...,   1.0182,   1.2448,   1.0323],\n",
       "           [  0.9898,   1.1550,   0.6518,  ...,   0.9456,   0.9913,   1.1860]],\n",
       " \n",
       "          ...,\n",
       " \n",
       "          [[-11.6541, -11.6462, -11.7875,  ..., -11.7712, -11.5358, -11.4256],\n",
       "           [-11.5290, -11.5828, -11.4122,  ..., -11.7016, -11.6787, -11.7025],\n",
       "           [-11.5314, -11.7575, -11.3677,  ..., -11.8456, -11.7847, -11.5554],\n",
       "           ...,\n",
       "           [-11.6447, -11.5943, -11.5119,  ..., -11.7236, -11.0680, -11.3189],\n",
       "           [-11.4078, -11.4446, -11.4527,  ..., -11.1891, -11.6940, -11.5638],\n",
       "           [-11.5627, -11.5617, -11.4084,  ..., -11.5491, -11.6080, -11.4814]],\n",
       " \n",
       "          [[-11.1403, -11.1205, -11.0387,  ..., -11.0365, -11.3951, -11.4191],\n",
       "           [-11.4854, -11.5710, -11.0958,  ..., -11.5158, -11.4721, -11.3848],\n",
       "           [-11.0434, -11.2380, -11.3224,  ..., -11.2322, -11.1771, -11.0079],\n",
       "           ...,\n",
       "           [-11.0682, -11.4271, -11.1275,  ..., -11.9007, -11.4483, -11.5891],\n",
       "           [-11.4305, -11.5269, -11.2213,  ..., -11.7813, -11.5808, -11.5419],\n",
       "           [-11.1107, -11.3024, -11.2529,  ..., -11.3808, -11.6382, -11.4301]],\n",
       " \n",
       "          [[-11.4474, -11.4593, -11.5486,  ..., -11.6688, -11.5760, -11.5450],\n",
       "           [-11.5302, -11.5541, -11.5929,  ..., -11.3506, -11.3571, -11.4017],\n",
       "           [-11.3387, -11.4179, -11.5100,  ..., -11.5475, -11.4444, -11.3733],\n",
       "           ...,\n",
       "           [-11.4937, -11.4561, -11.4309,  ..., -11.9305, -11.3623, -11.4599],\n",
       "           [-11.4808, -11.3526, -11.1240,  ..., -11.2648, -11.4890, -11.4622],\n",
       "           [-11.4276, -11.3246, -11.2848,  ..., -11.6943, -11.4712, -11.4402]]]], grad_fn=<CatBackward0>),\n",
       " tensor([[[[  0.8975,   0.9322,   0.9046,  ...,   1.1235,   0.8768,   0.9104],\n",
       "           [  0.8683,   0.9264,   1.1265,  ...,   1.1531,   1.1314,   1.3072],\n",
       "           [  0.7880,   0.5599,   0.8425,  ...,   0.8506,   0.7918,   1.1337],\n",
       "           ...,\n",
       "           [  0.6550,   0.9578,   0.4305,  ...,   1.1917,   0.7878,   1.0256],\n",
       "           [  1.0366,   0.5126,   0.8893,  ...,   1.1479,   0.8260,   0.8978],\n",
       "           [  0.7774,   0.8600,   0.6918,  ...,   1.2149,   0.7031,   0.7939]],\n",
       " \n",
       "          [[  0.9501,   0.9124,   0.9621,  ...,   1.2193,   1.2356,   1.1169],\n",
       "           [  1.0849,   0.6381,   1.0015,  ...,   1.0653,   1.0348,   1.2788],\n",
       "           [  1.1549,   0.9806,   1.2167,  ...,   1.3375,   1.6343,   1.2306],\n",
       "           ...,\n",
       "           [  1.1436,   0.7840,   0.6857,  ...,   0.1449,   0.5917,   0.8009],\n",
       "           [  1.2217,   0.9194,   1.0168,  ...,   0.4760,   0.7323,   0.9006],\n",
       "           [  0.9482,   1.0086,   1.0101,  ...,   1.1929,   0.9514,   0.9937]],\n",
       " \n",
       "          [[  1.0675,   1.1391,   0.9543,  ...,   1.2049,   1.2295,   0.9929],\n",
       "           [  1.0264,   1.1531,   1.3619,  ...,   0.9227,   0.6547,   0.6861],\n",
       "           [  1.2706,   1.0456,   1.2007,  ...,   1.4648,   0.8732,   0.8384],\n",
       "           ...,\n",
       "           [  1.2388,   1.4809,   1.0700,  ...,   1.1265,   0.5097,   0.6217],\n",
       "           [  1.2912,   0.8455,   1.0517,  ...,   0.9312,   0.7344,   1.1330],\n",
       "           [  1.1896,   1.0633,   0.9563,  ...,   0.9299,   1.2701,   0.9338]],\n",
       " \n",
       "          ...,\n",
       " \n",
       "          [[ -9.8963,  -9.9991, -10.3505,  ..., -10.2052,  -9.9371, -10.3110],\n",
       "           [ -9.6319, -10.2954,  -9.9334,  ...,  -9.7399, -10.2663, -10.2882],\n",
       "           [ -9.7264,  -9.9000,  -9.7657,  ...,  -9.5106, -10.3772, -10.2962],\n",
       "           ...,\n",
       "           [ -9.8255, -10.0217, -10.4392,  ..., -10.2860, -10.1552, -10.0227],\n",
       "           [ -9.8922, -10.2362, -10.1880,  ..., -10.0252,  -9.7461, -10.3923],\n",
       "           [ -9.9053, -10.4005, -10.0007,  ..., -10.3255, -10.2537, -10.3906]],\n",
       " \n",
       "          [[-10.0546,  -9.9556,  -9.9375,  ..., -10.0607, -10.0945,  -9.8866],\n",
       "           [-10.1491, -10.2706, -10.3413,  ...,  -9.8836,  -9.9261, -10.0886],\n",
       "           [-10.0649, -10.2789, -10.5989,  ..., -10.3295, -10.0780, -10.2419],\n",
       "           ...,\n",
       "           [ -9.7819, -10.0351, -10.1366,  ..., -10.4461, -10.5465, -10.0010],\n",
       "           [-10.1564, -10.3063, -10.2181,  ..., -10.9667, -10.3906, -10.2380],\n",
       "           [-10.1950, -10.0154, -10.2345,  ..., -10.3070, -10.0553, -10.2931]],\n",
       " \n",
       "          [[ -9.9420,  -9.9568, -10.3116,  ..., -10.1372, -10.2327, -10.3304],\n",
       "           [ -9.9235, -10.3775, -10.3821,  ...,  -9.9671, -10.2426, -10.2566],\n",
       "           [ -9.9511,  -9.9643,  -9.7815,  ..., -10.2599, -10.5236, -10.3239],\n",
       "           ...,\n",
       "           [-10.0505, -10.3590, -10.2582,  ...,  -9.8059, -10.0314, -10.1395],\n",
       "           [ -9.9905, -10.2689, -10.0153,  ..., -10.1118, -10.0527, -10.3105],\n",
       "           [ -9.7958,  -9.9647, -10.0217,  ..., -10.0534,  -9.8972, -10.0005]]]], grad_fn=<CatBackward0>),\n",
       " tensor([[[[ 0.9752,  1.2273,  0.9830,  ...,  1.1906,  0.8068,  0.6896],\n",
       "           [ 1.0748,  0.7550,  0.9121,  ...,  0.7300,  0.7509,  0.8646],\n",
       "           [ 1.1179,  1.3081,  0.7916,  ...,  1.2694,  1.0748,  0.7236],\n",
       "           ...,\n",
       "           [ 0.8257,  0.7418,  1.6106,  ...,  0.8370,  0.5754,  1.3706],\n",
       "           [ 0.6989,  1.2128,  0.7229,  ...,  1.1430,  0.5142,  1.2282],\n",
       "           [ 0.6006,  0.9599,  0.7112,  ...,  0.8716,  1.1243,  1.3837]],\n",
       " \n",
       "          [[ 0.7627,  1.3642,  1.2612,  ...,  0.8979,  0.7984,  0.7868],\n",
       "           [ 0.6939,  1.5164,  1.5653,  ...,  1.1914,  1.2308,  1.3169],\n",
       "           [ 0.6052,  1.7202,  1.2663,  ...,  1.0657,  1.0176,  1.6855],\n",
       "           ...,\n",
       "           [ 1.0563,  0.8700,  1.3956,  ...,  0.7094,  0.7015,  1.3718],\n",
       "           [ 1.2262,  1.1449,  1.1769,  ...,  1.1942,  0.9248,  1.0016],\n",
       "           [ 1.1176,  1.1319,  1.1893,  ...,  0.9451,  1.2734,  1.4092]],\n",
       " \n",
       "          [[ 1.0528,  1.0173,  1.4189,  ...,  1.1454,  1.1341,  1.2104],\n",
       "           [ 1.1564,  0.8805,  1.1237,  ...,  0.9440,  1.0446,  1.2283],\n",
       "           [ 1.1820,  1.4750,  1.1957,  ...,  0.9600,  0.7042,  1.2116],\n",
       "           ...,\n",
       "           [ 1.5144,  1.0803,  1.2593,  ...,  0.4707,  1.2247,  0.6269],\n",
       "           [ 1.3397,  1.1949,  1.2300,  ...,  0.9157,  1.2526,  1.0560],\n",
       "           [ 1.2496,  1.1255,  0.8333,  ...,  1.2189,  1.0837,  1.0700]],\n",
       " \n",
       "          ...,\n",
       " \n",
       "          [[-8.7443, -9.1340, -8.5253,  ..., -8.7868, -8.7925, -8.8448],\n",
       "           [-8.6507, -8.8801, -9.0138,  ..., -8.9329, -8.8482, -8.8968],\n",
       "           [-8.6618, -8.9693, -8.3439,  ..., -8.6164, -8.6549, -8.6078],\n",
       "           ...,\n",
       "           [-8.6174, -9.1062, -8.7307,  ..., -8.1918, -8.6323, -8.9225],\n",
       "           [-8.5639, -8.7564, -8.9294,  ..., -9.1173, -8.6681, -9.0751],\n",
       "           [-8.8847, -8.6892, -8.9958,  ..., -8.6027, -8.6331, -8.8134]],\n",
       " \n",
       "          [[-8.9399, -9.1407, -8.6657,  ..., -8.7610, -8.7732, -8.9846],\n",
       "           [-9.0873, -8.8337, -8.4837,  ..., -8.7342, -9.0834, -8.5272],\n",
       "           [-9.1143, -8.7808, -9.2370,  ..., -8.6306, -8.7427, -8.5815],\n",
       "           ...,\n",
       "           [-8.7866, -8.7351, -8.8004,  ..., -9.3288, -9.3349, -9.1854],\n",
       "           [-8.9474, -8.8724, -9.1610,  ..., -9.5501, -9.3982, -9.1059],\n",
       "           [-9.2226, -8.9837, -8.8927,  ..., -8.8320, -8.7422, -8.8898]],\n",
       " \n",
       "          [[-8.8117, -8.7596, -8.7294,  ..., -8.4585, -8.6586, -8.7732],\n",
       "           [-8.6857, -8.7625, -8.9846,  ..., -8.5650, -8.5138, -8.9582],\n",
       "           [-8.6039, -8.6966, -8.8287,  ..., -8.8785, -9.2763, -9.1996],\n",
       "           ...,\n",
       "           [-8.6255, -8.8501, -8.7100,  ..., -9.1486, -8.6508, -8.8315],\n",
       "           [-8.9314, -9.0931, -9.0518,  ..., -8.9380, -8.9988, -8.8441],\n",
       "           [-8.9279, -8.8995, -8.9246,  ..., -8.1337, -8.8916, -8.5156]]]], grad_fn=<CatBackward0>)]"
      ]
     },
     "execution_count": 1,
     "metadata": {},
     "output_type": "execute_result"
    }
   ],
   "execution_count": 1
  },
  {
   "metadata": {
    "ExecuteTime": {
     "end_time": "2025-04-07T00:26:37.260600Z",
     "start_time": "2025-04-07T00:26:19.334699Z"
    }
   },
   "cell_type": "code",
   "source": [
    "from ultralytics import YOLO\n",
    "model = YOLO(\"yolov8_quant.yaml\", task=\"detect\")\n",
    "model.train(data=\"coco8.yaml\", epochs=5, save=False)\n",
    "#model.export(format=\"onnx\")"
   ],
   "id": "addb7fce268d6ef2",
   "outputs": [
    {
     "name": "stdout",
     "output_type": "stream",
     "text": [
      "WARNING ⚠️ no model scale passed. Assuming scale='n'.\n"
     ]
    },
    {
     "name": "stderr",
     "output_type": "stream",
     "text": [
      "/home/exmob/miniconda/envs/ultralytics/lib/python3.9/site-packages/torch/_tensor.py:1624: UserWarning: Named tensors and all their associated APIs are an experimental feature and subject to change. Please do not use them for anything important until they are released as stable. (Triggered internally at /pytorch/c10/core/TensorImpl.h:1935.)\n",
      "  return super().rename(names)\n",
      "/home/exmob/miniconda/envs/ultralytics/lib/python3.9/site-packages/torch/nn/modules/conv.py:549: UserWarning: Defining your `__torch_function__` as a plain method is deprecated and will be an error in future, please define it as a classmethod. (Triggered internally at /pytorch/torch/csrc/utils/python_arg_parser.cpp:316.)\n",
      "  return F.conv2d(\n"
     ]
    },
    {
     "name": "stdout",
     "output_type": "stream",
     "text": [
      "New https://pypi.org/project/ultralytics/8.3.103 available 😃 Update with 'pip install -U ultralytics'\n",
      "Ultralytics 8.3.102 🚀 Python-3.9.21 torch-2.6.0+cu124 CPU (11th Gen Intel Core(TM) i5-1135G7 2.40GHz)\n",
      "\u001B[34m\u001B[1mengine/trainer: \u001B[0mtask=detect, mode=train, model=yolov8_quant.yaml, data=coco8.yaml, epochs=5, time=None, patience=100, batch=16, imgsz=640, save=False, save_period=-1, cache=False, device=None, workers=8, project=None, name=train10, exist_ok=False, pretrained=True, optimizer=auto, verbose=True, seed=0, deterministic=True, single_cls=False, rect=False, cos_lr=False, close_mosaic=10, resume=False, amp=True, fraction=1.0, profile=False, freeze=None, multi_scale=False, overlap_mask=True, mask_ratio=4, dropout=0.0, val=True, split=val, save_json=False, save_hybrid=False, conf=None, iou=0.7, max_det=300, half=False, dnn=False, plots=True, source=None, vid_stride=1, stream_buffer=False, visualize=False, augment=False, agnostic_nms=False, classes=None, retina_masks=False, embed=None, show=False, save_frames=False, save_txt=False, save_conf=False, save_crop=False, show_labels=True, show_conf=True, show_boxes=True, line_width=None, format=torchscript, keras=False, optimize=False, int8=False, dynamic=False, simplify=True, opset=None, workspace=None, nms=False, lr0=0.01, lrf=0.01, momentum=0.937, weight_decay=0.0005, warmup_epochs=3.0, warmup_momentum=0.8, warmup_bias_lr=0.1, box=7.5, cls=0.5, dfl=1.5, pose=12.0, kobj=1.0, nbs=64, hsv_h=0.015, hsv_s=0.7, hsv_v=0.4, degrees=0.0, translate=0.1, scale=0.5, shear=0.0, perspective=0.0, flipud=0.0, fliplr=0.5, bgr=0.0, mosaic=1.0, mixup=0.0, copy_paste=0.0, copy_paste_mode=flip, auto_augment=randaugment, erasing=0.4, crop_fraction=1.0, cfg=None, tracker=botsort.yaml, save_dir=/home/exmob/PycharmProjects/ultralytics/runs/detect/train10\n",
      "WARNING ⚠️ no model scale passed. Assuming scale='n'.\n",
      "\n",
      "                   from  n    params  module                                       arguments                     \n",
      "  0                  -1  1       465  ultralytics.nn.modules.conv.QuantConv        [3, 16, 3, 2]                 \n",
      "  1                  -1  1      4673  ultralytics.nn.modules.conv.QuantConv        [16, 32, 3, 2]                \n",
      "  2                  -1  1      7360  ultralytics.nn.modules.block.C2f             [32, 32, 1, True]             \n",
      "  3                  -1  1     18561  ultralytics.nn.modules.conv.QuantConv        [32, 64, 3, 2]                \n",
      "  4                  -1  2     49664  ultralytics.nn.modules.block.C2f             [64, 64, 2, True]             \n",
      "  5                  -1  1     73985  ultralytics.nn.modules.conv.QuantConv        [64, 128, 3, 2]               \n",
      "  6                  -1  2    197632  ultralytics.nn.modules.block.C2f             [128, 128, 2, True]           \n",
      "  7                  -1  1    295425  ultralytics.nn.modules.conv.QuantConv        [128, 256, 3, 2]              \n",
      "  8                  -1  1    460288  ultralytics.nn.modules.block.C2f             [256, 256, 1, True]           \n",
      "  9                  -1  1    164608  ultralytics.nn.modules.block.SPPF            [256, 256, 5]                 \n",
      " 10                  -1  1         0  torch.nn.modules.upsampling.Upsample         [None, 2, 'nearest']          \n",
      " 11             [-1, 6]  1         0  ultralytics.nn.modules.conv.Concat           [1]                           \n",
      " 12                  -1  1    148224  ultralytics.nn.modules.block.C2f             [384, 128, 1]                 \n",
      " 13                  -1  1         0  torch.nn.modules.upsampling.Upsample         [None, 2, 'nearest']          \n",
      " 14             [-1, 4]  1         0  ultralytics.nn.modules.conv.Concat           [1]                           \n",
      " 15                  -1  1     37248  ultralytics.nn.modules.block.C2f             [192, 64, 1]                  \n",
      " 16                  -1  1     36993  ultralytics.nn.modules.conv.QuantConv        [64, 64, 3, 2]                \n",
      " 17            [-1, 12]  1         0  ultralytics.nn.modules.conv.Concat           [1]                           \n",
      " 18                  -1  1    123648  ultralytics.nn.modules.block.C2f             [192, 128, 1]                 \n",
      " 19                  -1  1    147713  ultralytics.nn.modules.conv.QuantConv        [128, 128, 3, 2]              \n",
      " 20             [-1, 9]  1         0  ultralytics.nn.modules.conv.Concat           [1]                           \n",
      " 21                  -1  1    493056  ultralytics.nn.modules.block.C2f             [384, 256, 1]                 \n",
      " 22        [15, 18, 21]  1    897664  ultralytics.nn.modules.head.Detect           [80, [64, 128, 256]]          \n",
      "YOLOv8_quant summary: 347 layers, 3,157,207 parameters, 3,157,191 gradients, 7.6 GFLOPs\n",
      "\n",
      "Freezing layer 'model.22.dfl.conv.weight'\n"
     ]
    },
    {
     "name": "stderr",
     "output_type": "stream",
     "text": [
      "\u001B[34m\u001B[1mtrain: \u001B[0mScanning /data/projects/PycharmProjects/datasets/coco8/labels/train.cache... 4 images, 0 backgrounds, 0 corrupt: 100%|██████████| 4/4 [00:00<?, ?it/s]\n",
      "\u001B[34m\u001B[1mval: \u001B[0mScanning /data/projects/PycharmProjects/datasets/coco8/labels/val.cache... 4 images, 0 backgrounds, 0 corrupt: 100%|██████████| 4/4 [00:00<?, ?it/s]\n"
     ]
    },
    {
     "name": "stdout",
     "output_type": "stream",
     "text": [
      "Plotting labels to /home/exmob/PycharmProjects/ultralytics/runs/detect/train10/labels.jpg... \n",
      "\u001B[34m\u001B[1moptimizer:\u001B[0m 'optimizer=auto' found, ignoring 'lr0=0.01' and 'momentum=0.937' and determining best 'optimizer', 'lr0' and 'momentum' automatically... \n",
      "\u001B[34m\u001B[1moptimizer:\u001B[0m AdamW(lr=0.000119, momentum=0.9) with parameter groups 57 weight(decay=0.0), 78 weight(decay=0.0005), 63 bias(decay=0.0)\n",
      "Image sizes 640 train, 640 val\n",
      "Using 0 dataloader workers\n",
      "Logging results to \u001B[1m/home/exmob/PycharmProjects/ultralytics/runs/detect/train10\u001B[0m\n",
      "Starting training for 5 epochs...\n",
      "\n",
      "      Epoch    GPU_mem   box_loss   cls_loss   dfl_loss  Instances       Size\n"
     ]
    },
    {
     "name": "stderr",
     "output_type": "stream",
     "text": [
      "/home/exmob/miniconda/envs/ultralytics/lib/python3.9/site-packages/torch/_compile.py:32: UserWarning: optimizer contains a parameter group with duplicate parameters; in future, this will cause an error; see github.com/pytorch/pytorch/issues/40967 for more information\n",
      "  return disable_fn(*args, **kwargs)\n",
      "        1/5         0G      3.494      5.559      4.417         22        640: 100%|██████████| 1/1 [00:01<00:00,  1.73s/it]\n",
      "                 Class     Images  Instances      Box(P          R      mAP50  mAP50-95): 100%|██████████| 1/1 [00:00<00:00,  1.45it/s]"
     ]
    },
    {
     "name": "stdout",
     "output_type": "stream",
     "text": [
      "                   all          4         17          0          0          0          0\n",
      "\n",
      "      Epoch    GPU_mem   box_loss   cls_loss   dfl_loss  Instances       Size\n"
     ]
    },
    {
     "name": "stderr",
     "output_type": "stream",
     "text": [
      "\n",
      "        2/5         0G      3.303      5.635      4.282         23        640: 100%|██████████| 1/1 [00:01<00:00,  1.66s/it]\n",
      "                 Class     Images  Instances      Box(P          R      mAP50  mAP50-95): 100%|██████████| 1/1 [00:00<00:00,  1.77it/s]"
     ]
    },
    {
     "name": "stdout",
     "output_type": "stream",
     "text": [
      "                   all          4         17          0          0          0          0\n",
      "\n",
      "      Epoch    GPU_mem   box_loss   cls_loss   dfl_loss  Instances       Size\n"
     ]
    },
    {
     "name": "stderr",
     "output_type": "stream",
     "text": [
      "\n",
      "        3/5         0G      3.112      5.618      4.248         16        640: 100%|██████████| 1/1 [00:01<00:00,  1.65s/it]\n",
      "                 Class     Images  Instances      Box(P          R      mAP50  mAP50-95): 100%|██████████| 1/1 [00:00<00:00,  1.75it/s]"
     ]
    },
    {
     "name": "stdout",
     "output_type": "stream",
     "text": [
      "                   all          4         17          0          0          0          0\n",
      "\n",
      "      Epoch    GPU_mem   box_loss   cls_loss   dfl_loss  Instances       Size\n"
     ]
    },
    {
     "name": "stderr",
     "output_type": "stream",
     "text": [
      "\n",
      "        4/5         0G      3.163      5.616      4.385         35        640: 100%|██████████| 1/1 [00:01<00:00,  1.71s/it]\n",
      "                 Class     Images  Instances      Box(P          R      mAP50  mAP50-95): 100%|██████████| 1/1 [00:00<00:00,  1.79it/s]"
     ]
    },
    {
     "name": "stdout",
     "output_type": "stream",
     "text": [
      "                   all          4         17          0          0          0          0\n",
      "\n",
      "      Epoch    GPU_mem   box_loss   cls_loss   dfl_loss  Instances       Size\n"
     ]
    },
    {
     "name": "stderr",
     "output_type": "stream",
     "text": [
      "\n",
      "        5/5         0G      3.457      5.503      4.259         25        640: 100%|██████████| 1/1 [00:01<00:00,  1.71s/it]\n",
      "                 Class     Images  Instances      Box(P          R      mAP50  mAP50-95): 100%|██████████| 1/1 [00:00<00:00,  1.80it/s]"
     ]
    },
    {
     "name": "stdout",
     "output_type": "stream",
     "text": [
      "                   all          4         17          0          0          0          0\n",
      "\n",
      "5 epochs completed in 0.003 hours.\n"
     ]
    },
    {
     "name": "stderr",
     "output_type": "stream",
     "text": [
      "\n"
     ]
    }
   ],
   "execution_count": 1
  },
  {
   "metadata": {},
   "cell_type": "code",
   "outputs": [],
   "execution_count": null,
   "source": [
    "\n",
    "\n",
    "model = YOLO(\"yolov8_quant.yaml\")\n",
    "\n",
    "model.model.load_state_dict(ckpt[\"model_state_dict\"])\n",
    "\n",
    "\n",
    "model.model.eval()\n",
    "\n",
    "from brevitas.export import export_onnx_qcdq\n",
    "import torch\n",
    "\n",
    "# Dein quantisiertes YOLO-Modell (nur das \"model.model\", nicht das Wrapper-Modell)\n",
    "model.model.eval()  # wichtig\n",
    "\n",
    "# Dummy Input\n",
    "dummy_input = torch.randn(1, 3, 640, 640)\n",
    "\n",
    "# Export (QCDQ = Quantize/Dequantize Nodes)\n",
    "export_onnx_qcdq(model.model, dummy_input, export_path=\"yolov8_quant.onnx\")\n",
    "\n"
   ],
   "id": "9a59b2b2a84da9dc"
  },
  {
   "metadata": {
    "ExecuteTime": {
     "end_time": "2025-04-07T00:35:32.513748Z",
     "start_time": "2025-04-07T00:35:32.468333Z"
    }
   },
   "cell_type": "code",
   "source": [
    "import brevitas.onnx as bo\n",
    "import torch\n",
    "dummy_input = torch.randn(1, 3, 640, 640)\n",
    "bo.export_brevitas_onnx(model.model, dummy_input, export_path=\"yolov8_quant.onnx\")\n"
   ],
   "id": "c78321e1f48d3189",
   "outputs": [
    {
     "ename": "ModuleNotFoundError",
     "evalue": "Installation of onnx and onnxoptimizer is required.",
     "output_type": "error",
     "traceback": [
      "\u001B[0;31m---------------------------------------------------------------------------\u001B[0m",
      "\u001B[0;31mModuleNotFoundError\u001B[0m                       Traceback (most recent call last)",
      "Cell \u001B[0;32mIn[5], line 4\u001B[0m\n\u001B[1;32m      2\u001B[0m \u001B[38;5;28;01mimport\u001B[39;00m\u001B[38;5;250m \u001B[39m\u001B[38;5;21;01mtorch\u001B[39;00m\n\u001B[1;32m      3\u001B[0m dummy_input \u001B[38;5;241m=\u001B[39m torch\u001B[38;5;241m.\u001B[39mrandn(\u001B[38;5;241m1\u001B[39m, \u001B[38;5;241m3\u001B[39m, \u001B[38;5;241m640\u001B[39m, \u001B[38;5;241m640\u001B[39m)\n\u001B[0;32m----> 4\u001B[0m \u001B[43mbo\u001B[49m\u001B[38;5;241;43m.\u001B[39;49m\u001B[43mexport_brevitas_onnx\u001B[49m\u001B[43m(\u001B[49m\u001B[43mmodel\u001B[49m\u001B[38;5;241;43m.\u001B[39;49m\u001B[43mmodel\u001B[49m\u001B[43m,\u001B[49m\u001B[43m \u001B[49m\u001B[43mdummy_input\u001B[49m\u001B[43m,\u001B[49m\u001B[43m \u001B[49m\u001B[43mexport_path\u001B[49m\u001B[38;5;241;43m=\u001B[39;49m\u001B[38;5;124;43m\"\u001B[39;49m\u001B[38;5;124;43myolov8_quant.onnx\u001B[39;49m\u001B[38;5;124;43m\"\u001B[39;49m\u001B[43m)\u001B[49m\n",
      "File \u001B[0;32m~/miniconda/envs/ultralytics/lib/python3.9/site-packages/brevitas/export/__init__.py:14\u001B[0m, in \u001B[0;36mexport_brevitas_onnx\u001B[0;34m(*args, **kwargs)\u001B[0m\n\u001B[1;32m     12\u001B[0m \u001B[38;5;129m@wraps\u001B[39m(QONNXManager\u001B[38;5;241m.\u001B[39mexport)\n\u001B[1;32m     13\u001B[0m \u001B[38;5;28;01mdef\u001B[39;00m\u001B[38;5;250m \u001B[39m\u001B[38;5;21mexport_brevitas_onnx\u001B[39m(\u001B[38;5;241m*\u001B[39margs, \u001B[38;5;241m*\u001B[39m\u001B[38;5;241m*\u001B[39mkwargs):  \u001B[38;5;66;03m# alias for qonnx\u001B[39;00m\n\u001B[0;32m---> 14\u001B[0m     \u001B[38;5;28;01mreturn\u001B[39;00m \u001B[43mQONNXManager\u001B[49m\u001B[38;5;241;43m.\u001B[39;49m\u001B[43mexport\u001B[49m\u001B[43m(\u001B[49m\u001B[38;5;241;43m*\u001B[39;49m\u001B[43margs\u001B[49m\u001B[43m,\u001B[49m\u001B[43m \u001B[49m\u001B[38;5;241;43m*\u001B[39;49m\u001B[38;5;241;43m*\u001B[39;49m\u001B[43mkwargs\u001B[49m\u001B[43m)\u001B[49m\n",
      "File \u001B[0;32m~/miniconda/envs/ultralytics/lib/python3.9/site-packages/brevitas/export/onnx/manager.py:198\u001B[0m, in \u001B[0;36mONNXBaseManager.export\u001B[0;34m(cls, module, args, export_path, input_shape, input_t, disable_warnings, **onnx_export_kwargs)\u001B[0m\n\u001B[1;32m    187\u001B[0m \u001B[38;5;129m@classmethod\u001B[39m\n\u001B[1;32m    188\u001B[0m \u001B[38;5;28;01mdef\u001B[39;00m\u001B[38;5;250m \u001B[39m\u001B[38;5;21mexport\u001B[39m(\n\u001B[1;32m    189\u001B[0m         \u001B[38;5;28mcls\u001B[39m,\n\u001B[0;32m   (...)\u001B[0m\n\u001B[1;32m    196\u001B[0m         disable_warnings\u001B[38;5;241m=\u001B[39m\u001B[38;5;28;01mTrue\u001B[39;00m,\n\u001B[1;32m    197\u001B[0m         \u001B[38;5;241m*\u001B[39m\u001B[38;5;241m*\u001B[39monnx_export_kwargs):\n\u001B[0;32m--> 198\u001B[0m     \u001B[38;5;28;01mreturn\u001B[39;00m \u001B[38;5;28;43mcls\u001B[39;49m\u001B[38;5;241;43m.\u001B[39;49m\u001B[43mexport_onnx\u001B[49m\u001B[43m(\u001B[49m\n\u001B[1;32m    199\u001B[0m \u001B[43m        \u001B[49m\u001B[43mmodule\u001B[49m\u001B[43m,\u001B[49m\u001B[43m \u001B[49m\u001B[43margs\u001B[49m\u001B[43m,\u001B[49m\u001B[43m \u001B[49m\u001B[43mexport_path\u001B[49m\u001B[43m,\u001B[49m\u001B[43m \u001B[49m\u001B[43minput_shape\u001B[49m\u001B[43m,\u001B[49m\u001B[43m \u001B[49m\u001B[43minput_t\u001B[49m\u001B[43m,\u001B[49m\u001B[43m \u001B[49m\u001B[43mdisable_warnings\u001B[49m\u001B[43m,\u001B[49m\u001B[43m \u001B[49m\u001B[38;5;241;43m*\u001B[39;49m\u001B[38;5;241;43m*\u001B[39;49m\u001B[43monnx_export_kwargs\u001B[49m\u001B[43m)\u001B[49m\n",
      "File \u001B[0;32m~/miniconda/envs/ultralytics/lib/python3.9/site-packages/brevitas/export/onnx/manager.py:116\u001B[0m, in \u001B[0;36mONNXBaseManager.export_onnx\u001B[0;34m(cls, module, args, export_path, input_shape, input_t, disable_warnings, **onnx_export_kwargs)\u001B[0m\n\u001B[1;32m    104\u001B[0m \u001B[38;5;129m@classmethod\u001B[39m\n\u001B[1;32m    105\u001B[0m \u001B[38;5;28;01mdef\u001B[39;00m\u001B[38;5;250m \u001B[39m\u001B[38;5;21mexport_onnx\u001B[39m(\n\u001B[1;32m    106\u001B[0m         \u001B[38;5;28mcls\u001B[39m,\n\u001B[0;32m   (...)\u001B[0m\n\u001B[1;32m    112\u001B[0m         disable_warnings,\n\u001B[1;32m    113\u001B[0m         \u001B[38;5;241m*\u001B[39m\u001B[38;5;241m*\u001B[39monnx_export_kwargs):\n\u001B[1;32m    115\u001B[0m     \u001B[38;5;28;01mif\u001B[39;00m onnx \u001B[38;5;129;01mis\u001B[39;00m \u001B[38;5;28;01mNone\u001B[39;00m \u001B[38;5;129;01mor\u001B[39;00m opt \u001B[38;5;129;01mis\u001B[39;00m \u001B[38;5;28;01mNone\u001B[39;00m:\n\u001B[0;32m--> 116\u001B[0m         \u001B[38;5;28;01mraise\u001B[39;00m \u001B[38;5;167;01mModuleNotFoundError\u001B[39;00m(\u001B[38;5;124m\"\u001B[39m\u001B[38;5;124mInstallation of onnx and onnxoptimizer is required.\u001B[39m\u001B[38;5;124m\"\u001B[39m)\n\u001B[1;32m    117\u001B[0m     \u001B[38;5;28;01mif\u001B[39;00m \u001B[38;5;129;01mnot\u001B[39;00m (((input_shape \u001B[38;5;129;01mis\u001B[39;00m \u001B[38;5;129;01mnot\u001B[39;00m \u001B[38;5;28;01mNone\u001B[39;00m) \u001B[38;5;241m+\u001B[39m (input_t \u001B[38;5;129;01mis\u001B[39;00m \u001B[38;5;129;01mnot\u001B[39;00m \u001B[38;5;28;01mNone\u001B[39;00m) \u001B[38;5;241m+\u001B[39m (args \u001B[38;5;129;01mis\u001B[39;00m \u001B[38;5;129;01mnot\u001B[39;00m \u001B[38;5;28;01mNone\u001B[39;00m)) \u001B[38;5;241m==\u001B[39m \u001B[38;5;241m1\u001B[39m):\n\u001B[1;32m    118\u001B[0m         \u001B[38;5;28;01mraise\u001B[39;00m \u001B[38;5;167;01mRuntimeError\u001B[39;00m(\u001B[38;5;124m\"\u001B[39m\u001B[38;5;124mExport requires one of input_shape, args, or input_t\u001B[39m\u001B[38;5;124m\"\u001B[39m)\n",
      "\u001B[0;31mModuleNotFoundError\u001B[0m: Installation of onnx and onnxoptimizer is required."
     ]
    }
   ],
   "execution_count": 5
  },
  {
   "metadata": {},
   "cell_type": "code",
   "outputs": [],
   "execution_count": null,
   "source": "",
   "id": "3274b4af8d77515"
  }
 ],
 "metadata": {
  "kernelspec": {
   "display_name": "Python 3",
   "language": "python",
   "name": "python3"
  },
  "language_info": {
   "codemirror_mode": {
    "name": "ipython",
    "version": 2
   },
   "file_extension": ".py",
   "mimetype": "text/x-python",
   "name": "python",
   "nbconvert_exporter": "python",
   "pygments_lexer": "ipython2",
   "version": "2.7.6"
  }
 },
 "nbformat": 4,
 "nbformat_minor": 5
}
